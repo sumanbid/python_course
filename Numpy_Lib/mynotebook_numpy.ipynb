{
 "cells": [
  {
   "cell_type": "markdown",
   "metadata": {},
   "source": [
    "# NumPy Arrays:\n",
    "1. **Vectors and Matrices**\n",
    "    \n",
    "    import numpy as np\n",
    "    \n",
    "    np.array(arg) => arg is a list which is converted to single dimensional array i.e. vector \n",
    "    \n",
    "    or 2 dimensions array if it is a list of list. \n",
    "    \n",
    "    The number of square brackets at the start and the end indicate the dimension of the array.\n",
    "    \n",
    "    \n",
    "2. **Generation Functions**\n",
    "\n",
    "    2.1 **arange** ==> np.arange(start,stop, step) // function to generate arrange from start until stop with given step size\n",
    "   \n",
    "    2.2 **zeros** ==> np.zeros(size) // function to generate single or 2 dimensinal array initialized to 0\n",
    "   \n",
    "      // size = single number or a tuple\n",
    "   \n",
    "    2.3 **ones** ==> np.ones(size) // function to generate single or 2 dimensinal array initialized to 1.0\n",
    "   \n",
    "      // size = single number or a tuple\n",
    "     \n",
    "    2.4 **linspace** ==> np.linspace(start,stop,numpoints) \n",
    "    \n",
    "      // generates a single dimensional vectors with numpoints evenly spaced points between start to stop\n",
    "    \n",
    "    2.5 **eye** ==> np.eye(size) // identity matrix creation function i.e. element(i,i)= 1.0, \n",
    "    \n",
    "      // single argument is taken as the input as the identity matrix is always square matrix i.e. #rows = #columns\n",
    "    \n",
    "    2.6 **random** ==> create arrays of random numbers\n",
    "    \n",
    "         2.6.1 np.random.rand(dimension) => create an array of given dimension with random numbers \n",
    "         from uniform distribution from 0 to 1\n",
    "    \n",
    "         2.6.2.np.random.rand(dimension,dimension)=> create an 2-D array of given dimension with random numbers \n",
    "         from uniform distribution from 0 to 1\n",
    "    \n",
    "         2.6.3.np.random.rand**n**(dimension) => create an array of given dimension with random numbers \n",
    "         from standard distribution centered around 0\n",
    "     \n",
    "         2.6.4.np.random.rand**n**(dimension,dimension)=> create an 2-D array of given dimension with random numbers \n",
    "         from standard distribution centered around 0\n",
    "            \n",
    "         2.6.5.np.random.randint(low,high,size)=> create an 2-D array of given dimension with random integers \n",
    "         from low upto high of given size\n",
    "    \n",
    "   2.7 **reshape** ==> reshape the array of given size \n",
    "    \n",
    "     array.reshape(row,columns) // number of elements should be enough to completely fill the new size \n",
    "    \n",
    "     //i.e. row * columns = oldsize\n",
    "      \n",
    "   2.8 **Find max or min values** ==> functions to find max or min values and return the index locations\n",
    "        \n",
    "        2.8.1 rarray.max() ==> functions to find max element in array\n",
    "      \n",
    "        2.8.2 rarray.min() ==> functions to find min element in array\n",
    "      \n",
    "        2.8.3 rarray.argmax() ==> functions to find max element index in array \n",
    "    \n",
    "        2.8.4 rarray.argmin() ==> functions to find min element index in array \n",
    "\n",
    "   2.9 **Find shape of the vector** ==> attribute to find the shape of the vector\n",
    "    \n",
    "     array.shape ==> returns the shape of the array\n",
    "      \n",
    "   3.0 **Find datatype in the array** ==> find datatype of the elements of the array\n",
    "    \n",
    "     array.dtype ==>returns dtype(type)\n",
    "      \n",
    "      \n",
    "3. **Importing specific functions from the lib**\n",
    " \n",
    "    from numpy.random import randint \n",
    "    \n",
    "    randint(2,10)\n",
    "    "
   ]
  },
  {
   "cell_type": "code",
   "execution_count": 1,
   "metadata": {},
   "outputs": [
    {
     "data": {
      "text/plain": [
       "[1, 2, 3, 4]"
      ]
     },
     "execution_count": 1,
     "metadata": {},
     "output_type": "execute_result"
    }
   ],
   "source": [
    "mylist=[1,2,3,4]\n",
    "mylist"
   ]
  },
  {
   "cell_type": "code",
   "execution_count": 2,
   "metadata": {},
   "outputs": [
    {
     "data": {
      "text/plain": [
       "array([1, 2, 3, 4])"
      ]
     },
     "execution_count": 2,
     "metadata": {},
     "output_type": "execute_result"
    }
   ],
   "source": [
    "import numpy as np\n",
    "np.array(mylist)\n"
   ]
  },
  {
   "cell_type": "code",
   "execution_count": 3,
   "metadata": {},
   "outputs": [
    {
     "data": {
      "text/plain": [
       "[[1, 2, 3], [4, 5, 6], [7, 8, 9]]"
      ]
     },
     "execution_count": 3,
     "metadata": {},
     "output_type": "execute_result"
    }
   ],
   "source": [
    "my_mat= [[1,2,3],[4,5,6,],[7,8,9]]\n",
    "my_mat"
   ]
  },
  {
   "cell_type": "code",
   "execution_count": 4,
   "metadata": {},
   "outputs": [
    {
     "data": {
      "text/plain": [
       "array([[1, 2, 3],\n",
       "       [4, 5, 6],\n",
       "       [7, 8, 9]])"
      ]
     },
     "execution_count": 4,
     "metadata": {},
     "output_type": "execute_result"
    }
   ],
   "source": [
    "np.array(my_mat)"
   ]
  },
  {
   "cell_type": "code",
   "execution_count": 6,
   "metadata": {},
   "outputs": [
    {
     "data": {
      "text/plain": [
       "array([2, 4, 6, 8])"
      ]
     },
     "execution_count": 6,
     "metadata": {},
     "output_type": "execute_result"
    }
   ],
   "source": [
    "np.arange(2,10,2)"
   ]
  },
  {
   "cell_type": "code",
   "execution_count": 8,
   "metadata": {},
   "outputs": [
    {
     "data": {
      "text/plain": [
       "array([[0., 0., 0., 0.],\n",
       "       [0., 0., 0., 0.],\n",
       "       [0., 0., 0., 0.]])"
      ]
     },
     "execution_count": 8,
     "metadata": {},
     "output_type": "execute_result"
    }
   ],
   "source": [
    "np.zeros((3,4))"
   ]
  },
  {
   "cell_type": "code",
   "execution_count": 9,
   "metadata": {},
   "outputs": [
    {
     "data": {
      "text/plain": [
       "array([[1., 0., 0.],\n",
       "       [0., 1., 0.],\n",
       "       [0., 0., 1.]])"
      ]
     },
     "execution_count": 9,
     "metadata": {},
     "output_type": "execute_result"
    }
   ],
   "source": [
    "np.eye(3)"
   ]
  },
  {
   "cell_type": "code",
   "execution_count": 11,
   "metadata": {},
   "outputs": [
    {
     "data": {
      "text/plain": [
       "array([[0.99118174, 0.93719251, 0.44172127],\n",
       "       [0.01518659, 0.24849966, 0.29202744],\n",
       "       [0.24112227, 0.97170089, 0.56250282]])"
      ]
     },
     "execution_count": 11,
     "metadata": {},
     "output_type": "execute_result"
    }
   ],
   "source": [
    " np.random.rand(3,3)"
   ]
  },
  {
   "cell_type": "code",
   "execution_count": 18,
   "metadata": {},
   "outputs": [
    {
     "data": {
      "text/plain": [
       "array([[ 0,  1,  2,  3,  4],\n",
       "       [ 5,  6,  7,  8,  9],\n",
       "       [10, 11, 12, 13, 14],\n",
       "       [15, 16, 17, 18, 19],\n",
       "       [20, 21, 22, 23, 24]])"
      ]
     },
     "execution_count": 18,
     "metadata": {},
     "output_type": "execute_result"
    }
   ],
   "source": [
    "array = np.arange(25)\n",
    "array\n",
    "rarray= np.random.randint(0,50,10)\n",
    "rarray\n",
    "array.reshape(5,5)"
   ]
  },
  {
   "cell_type": "code",
   "execution_count": 19,
   "metadata": {},
   "outputs": [
    {
     "data": {
      "text/plain": [
       "array([24, 33, 27, 33, 24, 20, 33, 44, 48, 12])"
      ]
     },
     "execution_count": 19,
     "metadata": {},
     "output_type": "execute_result"
    }
   ],
   "source": [
    "rarray"
   ]
  },
  {
   "cell_type": "code",
   "execution_count": 20,
   "metadata": {},
   "outputs": [
    {
     "data": {
      "text/plain": [
       "48"
      ]
     },
     "execution_count": 20,
     "metadata": {},
     "output_type": "execute_result"
    }
   ],
   "source": [
    "rarray.max()"
   ]
  },
  {
   "cell_type": "markdown",
   "metadata": {},
   "source": [
    "# NumPy Indexing and Selection\n",
    "\n",
    "1. Indexing used to get the element from the array \n",
    "\n",
    "2. Slice notation works for getting the subarray from the array arra[m:n]\n",
    "\n",
    "3. Slicing creates reference to original array from the array to which the slice is assigned. So if the elements of the sliced array are broadcasted to another value i.e. new value assigned to sliced array, then original array elements are reassigned as well. \n",
    "    \n",
    "    import numpy as np\n",
    "    \n",
    "    arr = np.arange(0,10)\n",
    "    \n",
    "    arr[1:6]\n",
    "    \n",
    "    slice_of_array = arr[1:6]\n",
    "    \n",
    "    slice_of_array[:6] =  10\n",
    "    \n",
    "    arr[1:6] \n",
    "    \n",
    "   \n",
    "4. To create a real copy of the array, .copy() method of the array class. \n",
    "    \n",
    "    Copy_of_array = arr.copy()\n",
    "    \n",
    "    Copy_of_array[:6] =  0\n",
    "    \n",
    "    arr[1:6] \n",
    "    \n",
    "    Copy_of_array[1:6]\n",
    "    \n",
    "\n",
    "5. Indexing 2d array\n",
    "\n",
    "    array_2d =np.array([[1,2,3],[4,5,6],[7,8,9]])\n",
    "    \n",
    "    array_2d\n",
    "    \n",
    "    array_2d[0] //entire row\n",
    "    \n",
    "    array_2d[1][0] // row =1, column =0 element\n",
    "    \n",
    "    array_2d[1,0] // row =1, column =0 element \n",
    "    \n",
    "\n",
    "7. Grabbing multiple rows and columns from np 2D array using Slice notation\n",
    "\n",
    "    array_2d[:2,1:] // get all the rows upto 2nd row and all the column starting from 1 upto the end  \n",
    "    \n",
    "    array_2d[1:,:2] // get all the rows from 1st row and all the column starting upto 2nd\n",
    "    \n",
    " \n",
    "8. Comparison operator on the array elements\n",
    "\n",
    "   array_com = np.arange(0,9)\n",
    "   array_com\n",
    "   \n",
    "   array_com > 10\n",
    "   \n",
    "   Returns the array of boolean value with result of the comparison for each element of the array \n",
    "   \n",
    "   array([False, False, False, False, False, False, False, False, False])\n",
    "   \n",
    "    \n",
    "9. Using comparison operator for choosing selectively the elements of the array\n",
    "    \n",
    "    array_com = np.arange(0,9)\n",
    "    \n",
    "    bool_array = array_com > 1\n",
    "    \n",
    "    array_com[bool_array] **OR**   array_com[array_com > 2]\n",
    "    \n",
    "    "
   ]
  },
  {
   "cell_type": "code",
   "execution_count": 13,
   "metadata": {},
   "outputs": [
    {
     "data": {
      "text/plain": [
       "array([10, 10, 10, 10, 10])"
      ]
     },
     "execution_count": 13,
     "metadata": {},
     "output_type": "execute_result"
    }
   ],
   "source": [
    "    import numpy as np\n",
    "    arr = np.arange(0,10)\n",
    "    arr[1:6]\n",
    "    slice_of_array = arr[1:6]\n",
    "    slice_of_array[:6] =  10\n",
    "    arr[1:6] "
   ]
  },
  {
   "cell_type": "code",
   "execution_count": 14,
   "metadata": {},
   "outputs": [
    {
     "data": {
      "text/plain": [
       "array([10, 10, 10, 10, 10])"
      ]
     },
     "execution_count": 14,
     "metadata": {},
     "output_type": "execute_result"
    }
   ],
   "source": [
    "Copy_of_array = arr.copy()\n",
    "Copy_of_array[:6] =  0\n",
    "arr[1:6] "
   ]
  },
  {
   "cell_type": "code",
   "execution_count": 15,
   "metadata": {},
   "outputs": [
    {
     "data": {
      "text/plain": [
       "array([0, 0, 0, 0, 0])"
      ]
     },
     "execution_count": 15,
     "metadata": {},
     "output_type": "execute_result"
    }
   ],
   "source": [
    "Copy_of_array[1:6]"
   ]
  },
  {
   "cell_type": "code",
   "execution_count": 17,
   "metadata": {},
   "outputs": [
    {
     "data": {
      "text/plain": [
       "[[1, 2, 3], [4, 5, 6], [7, 8, 9]]"
      ]
     },
     "execution_count": 17,
     "metadata": {},
     "output_type": "execute_result"
    }
   ],
   "source": [
    "array_2d =[[1,2,3],[4,5,6],[7,8,9]] \n",
    "array_2d"
   ]
  },
  {
   "cell_type": "code",
   "execution_count": 18,
   "metadata": {},
   "outputs": [],
   "source": [
    "array_2d =np.array([[1,2,3],[4,5,6],[7,8,9]]) "
   ]
  },
  {
   "cell_type": "code",
   "execution_count": 19,
   "metadata": {},
   "outputs": [
    {
     "data": {
      "text/plain": [
       "array([[1, 2, 3],\n",
       "       [4, 5, 6],\n",
       "       [7, 8, 9]])"
      ]
     },
     "execution_count": 19,
     "metadata": {},
     "output_type": "execute_result"
    }
   ],
   "source": [
    "array_2d"
   ]
  },
  {
   "cell_type": "code",
   "execution_count": 20,
   "metadata": {},
   "outputs": [
    {
     "data": {
      "text/plain": [
       "array([1, 2, 3])"
      ]
     },
     "execution_count": 20,
     "metadata": {},
     "output_type": "execute_result"
    }
   ],
   "source": [
    "array_2d[0]"
   ]
  },
  {
   "cell_type": "code",
   "execution_count": 22,
   "metadata": {},
   "outputs": [
    {
     "data": {
      "text/plain": [
       "4"
      ]
     },
     "execution_count": 22,
     "metadata": {},
     "output_type": "execute_result"
    }
   ],
   "source": [
    "array_2d[1,0]"
   ]
  },
  {
   "cell_type": "code",
   "execution_count": 23,
   "metadata": {},
   "outputs": [
    {
     "data": {
      "text/plain": [
       "array([[2, 3],\n",
       "       [5, 6]])"
      ]
     },
     "execution_count": 23,
     "metadata": {},
     "output_type": "execute_result"
    }
   ],
   "source": [
    "array_2d[:2,1:]"
   ]
  },
  {
   "cell_type": "code",
   "execution_count": 24,
   "metadata": {},
   "outputs": [
    {
     "data": {
      "text/plain": [
       "array([[4, 5],\n",
       "       [7, 8]])"
      ]
     },
     "execution_count": 24,
     "metadata": {},
     "output_type": "execute_result"
    }
   ],
   "source": [
    "array_2d[1:,:2]"
   ]
  },
  {
   "cell_type": "code",
   "execution_count": 25,
   "metadata": {},
   "outputs": [
    {
     "data": {
      "text/plain": [
       "array([[1, 2],\n",
       "       [4, 5],\n",
       "       [7, 8]])"
      ]
     },
     "execution_count": 25,
     "metadata": {},
     "output_type": "execute_result"
    }
   ],
   "source": [
    "array_2d[:,:2]"
   ]
  },
  {
   "cell_type": "code",
   "execution_count": 29,
   "metadata": {},
   "outputs": [
    {
     "data": {
      "text/plain": [
       "array([0, 1, 2, 3, 4, 5, 6, 7, 8])"
      ]
     },
     "execution_count": 29,
     "metadata": {},
     "output_type": "execute_result"
    }
   ],
   "source": [
    "array_com = np.arange(0,9)\n",
    "array_com"
   ]
  },
  {
   "cell_type": "code",
   "execution_count": 28,
   "metadata": {},
   "outputs": [
    {
     "data": {
      "text/plain": [
       "array([False, False, False, False, False, False, False, False, False])"
      ]
     },
     "execution_count": 28,
     "metadata": {},
     "output_type": "execute_result"
    }
   ],
   "source": [
    "array_com > 10"
   ]
  },
  {
   "cell_type": "code",
   "execution_count": 32,
   "metadata": {},
   "outputs": [
    {
     "data": {
      "text/plain": [
       "array([2, 3, 4, 5, 6, 7, 8])"
      ]
     },
     "execution_count": 32,
     "metadata": {},
     "output_type": "execute_result"
    }
   ],
   "source": [
    "array_com = np.arange(0,9)\n",
    "bool_array = array_com > 1\n",
    "array_com[bool_array]"
   ]
  },
  {
   "cell_type": "code",
   "execution_count": 33,
   "metadata": {},
   "outputs": [
    {
     "data": {
      "text/plain": [
       "array([3, 4, 5, 6, 7, 8])"
      ]
     },
     "execution_count": 33,
     "metadata": {},
     "output_type": "execute_result"
    }
   ],
   "source": [
    "array_com[array_com > 2]"
   ]
  },
  {
   "cell_type": "markdown",
   "metadata": {},
   "source": [
    "# NumPy Operations \n",
    "\n",
    "1. **Array with Array**\n",
    "   \n",
    "       1.1. Adding two arrays: \n",
    "        \n",
    "            arr= np.arange(0,10)\n",
    "            \n",
    "            arr = arr + arr // arr[i] + arr[i] for each element i in the array \n",
    "   \n",
    "       1.2 Subtracting two arrays:\n",
    "       \n",
    "            arr = arr - arr // arr[i] - arr[i] for each element i in the array \n",
    "    \n",
    "       1.3 Multiplying two arrays: \n",
    "   \n",
    "            arr = arr * arr // arr[i] * arr[i] for each element i in the array \n",
    "   \n",
    "       1.4 Exponents two arrays: \n",
    "   \n",
    "            arr = arr ** arr // arr[i] ** arr[i] for each element i in the array\n",
    "            \n",
    "           \n",
    "2. **Array with Scalars**\n",
    "\n",
    "       2.1. Adding scalar to an arrays: \n",
    "        \n",
    "            arr= np.arange(0,10)\n",
    "            \n",
    "            arr = arr + 100 // arr[i] + 100 for each element i in the array \n",
    "   \n",
    "       2.2 Subtracting scalar from  arrays:\n",
    "       \n",
    "            arr = arr - 100 // arr[i] - 100 for each element i in the array \n",
    "    \n",
    "       2.3 Multiplying scalar to arrays: \n",
    "   \n",
    "            arr = arr * 100 // arr[i] * 100 for each element i in the array   \n",
    "          \n",
    "       2.4 Exponents scalar to arrays: \n",
    "   \n",
    "            arr = arr ** 100 // arr[i] ** 100 for each element i in the array\n",
    "\n",
    "3. **Universal Array Functions**\n",
    "\n",
    "       3.1 sin()\n",
    "       \n",
    "       3.2 max()\n",
    "       \n",
    "       3.3 min()\n",
    "       \n",
    "       3.4 exp()\n",
    "       .\n",
    "       .\n",
    "       .\n",
    "       "
   ]
  },
  {
   "cell_type": "code",
   "execution_count": 3,
   "metadata": {},
   "outputs": [
    {
     "data": {
      "text/plain": [
       "array([ 0,  2,  4,  6,  8, 10, 12, 14, 16, 18])"
      ]
     },
     "execution_count": 3,
     "metadata": {},
     "output_type": "execute_result"
    }
   ],
   "source": [
    "import numpy as np\n",
    "arr= np.arange(0,10)\n",
    "arr = arr + arr\n",
    "arr\n"
   ]
  },
  {
   "cell_type": "code",
   "execution_count": 4,
   "metadata": {},
   "outputs": [
    {
     "data": {
      "text/plain": [
       "array([0, 0, 0, 0, 0, 0, 0, 0, 0, 0])"
      ]
     },
     "execution_count": 4,
     "metadata": {},
     "output_type": "execute_result"
    }
   ],
   "source": [
    "arr = arr - arr\n",
    "arr"
   ]
  },
  {
   "cell_type": "code",
   "execution_count": 5,
   "metadata": {},
   "outputs": [
    {
     "data": {
      "text/plain": [
       "array([0, 0, 0, 0, 0, 0, 0, 0, 0, 0])"
      ]
     },
     "execution_count": 5,
     "metadata": {},
     "output_type": "execute_result"
    }
   ],
   "source": [
    "arr = arr * arr\n",
    "arr"
   ]
  },
  {
   "cell_type": "code",
   "execution_count": 6,
   "metadata": {},
   "outputs": [
    {
     "data": {
      "text/plain": [
       "array([100, 100, 100, 100, 100, 100, 100, 100, 100, 100])"
      ]
     },
     "execution_count": 6,
     "metadata": {},
     "output_type": "execute_result"
    }
   ],
   "source": [
    "arr = arr + 100\n",
    "arr"
   ]
  },
  {
   "cell_type": "markdown",
   "metadata": {},
   "source": []
  },
  {
   "cell_type": "code",
   "execution_count": null,
   "metadata": {},
   "outputs": [],
   "source": []
  }
 ],
 "metadata": {
  "kernelspec": {
   "display_name": "Python 3",
   "language": "python",
   "name": "python3"
  },
  "language_info": {
   "codemirror_mode": {
    "name": "ipython",
    "version": 3
   },
   "file_extension": ".py",
   "mimetype": "text/x-python",
   "name": "python",
   "nbconvert_exporter": "python",
   "pygments_lexer": "ipython3",
   "version": "3.7.4"
  }
 },
 "nbformat": 4,
 "nbformat_minor": 2
}
