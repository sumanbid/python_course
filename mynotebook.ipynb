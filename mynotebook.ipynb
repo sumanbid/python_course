{
 "cells": [
  {
   "cell_type": "markdown",
   "metadata": {},
   "source": [
    "# **Basic numbers and arithmatic**\n",
    "1. Addition +\n",
    "2. Subtraction -\n",
    "3. Multiplication *\n",
    "4. Division / ( version python > 2.7, returns floating point as result)\n",
    "5. Raised to **\n",
    "6. Mod %\n",
    "7. Follows BODMAS/ PEMDAS rule"
   ]
  },
  {
   "cell_type": "code",
   "execution_count": 5,
   "metadata": {
    "scrolled": false
   },
   "outputs": [
    {
     "data": {
      "text/plain": [
       "1.0"
      ]
     },
     "execution_count": 5,
     "metadata": {},
     "output_type": "execute_result"
    }
   ],
   "source": [
    "1/1"
   ]
  },
  {
   "cell_type": "code",
   "execution_count": 2,
   "metadata": {},
   "outputs": [
    {
     "data": {
      "text/plain": [
       "16"
      ]
     },
     "execution_count": 2,
     "metadata": {},
     "output_type": "execute_result"
    }
   ],
   "source": [
    "2**4"
   ]
  },
  {
   "cell_type": "code",
   "execution_count": 3,
   "metadata": {},
   "outputs": [
    {
     "data": {
      "text/plain": [
       "17"
      ]
     },
     "execution_count": 3,
     "metadata": {},
     "output_type": "execute_result"
    }
   ],
   "source": [
    "2+2*5+5"
   ]
  },
  {
   "cell_type": "code",
   "execution_count": 4,
   "metadata": {},
   "outputs": [
    {
     "data": {
      "text/plain": [
       "0"
      ]
     },
     "execution_count": 4,
     "metadata": {},
     "output_type": "execute_result"
    }
   ],
   "source": [
    "4%4"
   ]
  },
  {
   "cell_type": "markdown",
   "metadata": {},
   "source": [
    "# Variable declaration and definition \n",
    "1. Variable name cannot start with numbers\n",
    "2. Variable name cannot start with special characters \n",
    "3. Variable name should start with lower case letters\n",
    "4. Use underscore for name separation"
   ]
  },
  {
   "cell_type": "code",
   "execution_count": 6,
   "metadata": {},
   "outputs": [],
   "source": [
    "var =2"
   ]
  },
  {
   "cell_type": "code",
   "execution_count": 7,
   "metadata": {},
   "outputs": [
    {
     "data": {
      "text/plain": [
       "2"
      ]
     },
     "execution_count": 7,
     "metadata": {},
     "output_type": "execute_result"
    }
   ],
   "source": [
    "var"
   ]
  },
  {
   "cell_type": "code",
   "execution_count": 8,
   "metadata": {},
   "outputs": [],
   "source": [
    "x=2\n",
    "y=3"
   ]
  },
  {
   "cell_type": "code",
   "execution_count": 9,
   "metadata": {},
   "outputs": [
    {
     "data": {
      "text/plain": [
       "5"
      ]
     },
     "execution_count": 9,
     "metadata": {},
     "output_type": "execute_result"
    }
   ],
   "source": [
    "x+y"
   ]
  },
  {
   "cell_type": "code",
   "execution_count": 10,
   "metadata": {},
   "outputs": [],
   "source": [
    "x=x+x"
   ]
  },
  {
   "cell_type": "code",
   "execution_count": 11,
   "metadata": {},
   "outputs": [
    {
     "data": {
      "text/plain": [
       "4"
      ]
     },
     "execution_count": 11,
     "metadata": {},
     "output_type": "execute_result"
    }
   ],
   "source": [
    "x"
   ]
  },
  {
   "cell_type": "markdown",
   "metadata": {},
   "source": [
    "# Strings \n",
    "1. Single quote strings\n",
    "2. Double quote strings\n",
    "3. Double quote strings used for strings containing single quotes \n",
    "4. While declaring a variable with string value and printing the variable using print function, the 'out' symbol does not appear on the right hand side \n",
    "5. .format function used to format the string using variable names and then print function to print the formatted string\n",
    "6. .format(one=num, two=name) style allows to add more variables without worrying about the order of the variables\n",
    "7. Indexing in the string is done using [] brackets and indexing starts at 0\n",
    "8. Slice notation [n:m] grabs slices of the string starting from n index upto m index, [:] gets the whole string, [:m] gets the string from start index i.e 0 upto m, [n:] gets the string starting at n index upto the last index"
   ]
  },
  {
   "cell_type": "code",
   "execution_count": 12,
   "metadata": {},
   "outputs": [
    {
     "data": {
      "text/plain": [
       "'single quote string'"
      ]
     },
     "execution_count": 12,
     "metadata": {},
     "output_type": "execute_result"
    }
   ],
   "source": [
    "'single quote string'"
   ]
  },
  {
   "cell_type": "code",
   "execution_count": 13,
   "metadata": {},
   "outputs": [
    {
     "data": {
      "text/plain": [
       "'double quote string'"
      ]
     },
     "execution_count": 13,
     "metadata": {},
     "output_type": "execute_result"
    }
   ],
   "source": [
    "\"double quote string\""
   ]
  },
  {
   "cell_type": "code",
   "execution_count": 15,
   "metadata": {},
   "outputs": [
    {
     "data": {
      "text/plain": [
       "\"I can't go\""
      ]
     },
     "execution_count": 15,
     "metadata": {},
     "output_type": "execute_result"
    }
   ],
   "source": [
    "\"I can't go\""
   ]
  },
  {
   "cell_type": "code",
   "execution_count": 16,
   "metadata": {},
   "outputs": [],
   "source": [
    "x = 'My name is suman'"
   ]
  },
  {
   "cell_type": "code",
   "execution_count": 17,
   "metadata": {},
   "outputs": [
    {
     "name": "stdout",
     "output_type": "stream",
     "text": [
      "My name is suman\n"
     ]
    }
   ],
   "source": [
    "print(x)"
   ]
  },
  {
   "cell_type": "code",
   "execution_count": 19,
   "metadata": {},
   "outputs": [
    {
     "name": "stdout",
     "output_type": "stream",
     "text": [
      "My number is 12 and my name is suman\n"
     ]
    }
   ],
   "source": [
    "num = 12\n",
    "name= 'suman'\n",
    "print('My number is {} and my name is {}' .format(num, name))"
   ]
  },
  {
   "cell_type": "code",
   "execution_count": 21,
   "metadata": {},
   "outputs": [
    {
     "data": {
      "text/plain": [
       "'My number is 12 and my name is suman'"
      ]
     },
     "execution_count": 21,
     "metadata": {},
     "output_type": "execute_result"
    }
   ],
   "source": [
    "'My number is {one} and my name is {two}' .format(two=name,one=num)"
   ]
  },
  {
   "cell_type": "code",
   "execution_count": 22,
   "metadata": {},
   "outputs": [],
   "source": [
    "s = 'hello'"
   ]
  },
  {
   "cell_type": "code",
   "execution_count": 23,
   "metadata": {},
   "outputs": [
    {
     "data": {
      "text/plain": [
       "'h'"
      ]
     },
     "execution_count": 23,
     "metadata": {},
     "output_type": "execute_result"
    }
   ],
   "source": [
    "s[0]"
   ]
  },
  {
   "cell_type": "code",
   "execution_count": 24,
   "metadata": {},
   "outputs": [
    {
     "data": {
      "text/plain": [
       "'o'"
      ]
     },
     "execution_count": 24,
     "metadata": {},
     "output_type": "execute_result"
    }
   ],
   "source": [
    "s[4]"
   ]
  },
  {
   "cell_type": "code",
   "execution_count": 25,
   "metadata": {},
   "outputs": [
    {
     "data": {
      "text/plain": [
       "'hel'"
      ]
     },
     "execution_count": 25,
     "metadata": {},
     "output_type": "execute_result"
    }
   ],
   "source": [
    "s[0:3]"
   ]
  },
  {
   "cell_type": "code",
   "execution_count": 26,
   "metadata": {},
   "outputs": [
    {
     "data": {
      "text/plain": [
       "'hello'"
      ]
     },
     "execution_count": 26,
     "metadata": {},
     "output_type": "execute_result"
    }
   ],
   "source": [
    "s[:]"
   ]
  },
  {
   "cell_type": "markdown",
   "metadata": {},
   "source": [
    "# Lists\n",
    "1. Lists contains values separated by commas in square brackets\n",
    "2. .append method to append value to list\n",
    "3. indexing used to get value at a index from the list\n",
    "4. slicing works for lists as well \n",
    "5. reassignment done using the indexing \n",
    "6. nested lists allowed [1,2,[3,4]]\n",
    "7. indexing for nested list works as follows nest[2][1] \n",
    "8. lists can contain multiple types of data i.e. number, strings, characters etc"
   ]
  },
  {
   "cell_type": "code",
   "execution_count": 27,
   "metadata": {},
   "outputs": [
    {
     "data": {
      "text/plain": [
       "1"
      ]
     },
     "execution_count": 27,
     "metadata": {},
     "output_type": "execute_result"
    }
   ],
   "source": [
    "mylist= [1,2,3]\n",
    "mylist[0]"
   ]
  },
  {
   "cell_type": "code",
   "execution_count": 28,
   "metadata": {},
   "outputs": [],
   "source": [
    "mylist[2] =4"
   ]
  },
  {
   "cell_type": "code",
   "execution_count": 31,
   "metadata": {},
   "outputs": [
    {
     "data": {
      "text/plain": [
       "[2, 4]"
      ]
     },
     "execution_count": 31,
     "metadata": {},
     "output_type": "execute_result"
    }
   ],
   "source": [
    "mylist[1:4]"
   ]
  },
  {
   "cell_type": "code",
   "execution_count": 33,
   "metadata": {},
   "outputs": [
    {
     "data": {
      "text/plain": [
       "'mine'"
      ]
     },
     "execution_count": 33,
     "metadata": {},
     "output_type": "execute_result"
    }
   ],
   "source": [
    "nest_list= [1,2,3,['word','mine']]\n",
    "nest_list[3][1]"
   ]
  },
  {
   "cell_type": "markdown",
   "metadata": {},
   "source": [
    "# Dictionaries\n",
    "1. Created specifying d = {'key':value}, non-sequential, hold values using keys\n",
    "2. indexing done using keys d['key']\n",
    "3. value assigned to key could be list, strings, numbers etc. \n",
    "4. fetching list assigned to the key using key as an index and then using actual indexing to get values from the list assigned to the key.  example: d = {'key1':[1,2,3]} d['key1'][2] => should give us 3\n",
    "5. nested dictionaries are possible where the value for the key is another key of the nested dictionary example: d{'key':{'inkey':'secret weapon'}}, fetching the value would be done by  d['key']['inkey'] "
   ]
  },
  {
   "cell_type": "code",
   "execution_count": 35,
   "metadata": {},
   "outputs": [
    {
     "data": {
      "text/plain": [
       "3"
      ]
     },
     "execution_count": 35,
     "metadata": {},
     "output_type": "execute_result"
    }
   ],
   "source": [
    "d = {'key1':[1,2,3]}\n",
    "d['key1'][2]"
   ]
  },
  {
   "cell_type": "code",
   "execution_count": 37,
   "metadata": {},
   "outputs": [
    {
     "data": {
      "text/plain": [
       "'secret weapon'"
      ]
     },
     "execution_count": 37,
     "metadata": {},
     "output_type": "execute_result"
    }
   ],
   "source": [
    "d= {'key':{'inkey':'secret weapon'}}\n",
    "d['key']['inkey']"
   ]
  },
  {
   "cell_type": "code",
   "execution_count": 39,
   "metadata": {},
   "outputs": [
    {
     "data": {
      "text/plain": [
       "5"
      ]
     },
     "execution_count": 39,
     "metadata": {},
     "output_type": "execute_result"
    }
   ],
   "source": [
    "d1= {'key':{'inkey':[2,3,4,5]}}\n",
    "d1['key']['inkey'][3]"
   ]
  },
  {
   "cell_type": "markdown",
   "metadata": {},
   "source": [
    "# Booleans\n",
    "1. Binary values, **T**rue or **F**alse "
   ]
  },
  {
   "cell_type": "code",
   "execution_count": 40,
   "metadata": {},
   "outputs": [
    {
     "data": {
      "text/plain": [
       "True"
      ]
     },
     "execution_count": 40,
     "metadata": {},
     "output_type": "execute_result"
    }
   ],
   "source": [
    "True"
   ]
  },
  {
   "cell_type": "code",
   "execution_count": 41,
   "metadata": {},
   "outputs": [
    {
     "data": {
      "text/plain": [
       "False"
      ]
     },
     "execution_count": 41,
     "metadata": {},
     "output_type": "execute_result"
    }
   ],
   "source": [
    "False"
   ]
  },
  {
   "cell_type": "markdown",
   "metadata": {},
   "source": [
    "# Tuples\n",
    "1. Tuple is similar to list, but instead of square brackets we use paranthesis \n",
    "2. Indexing in Tuples done using [] brackets like in lists\n",
    "3. List reassignment works but in Tuple reassignment does not work \n",
    "4. Tuple is immutable and therefore items cannot be reassigned in Tuples. If tried the following error msg is shows **'tuple' object does not support item assignment**"
   ]
  },
  {
   "cell_type": "code",
   "execution_count": 43,
   "metadata": {},
   "outputs": [],
   "source": [
    "tup = (1,2,3)"
   ]
  },
  {
   "cell_type": "code",
   "execution_count": 44,
   "metadata": {},
   "outputs": [
    {
     "data": {
      "text/plain": [
       "3"
      ]
     },
     "execution_count": 44,
     "metadata": {},
     "output_type": "execute_result"
    }
   ],
   "source": [
    "tup[2]"
   ]
  },
  {
   "cell_type": "code",
   "execution_count": 45,
   "metadata": {},
   "outputs": [
    {
     "ename": "TypeError",
     "evalue": "'tuple' object does not support item assignment",
     "output_type": "error",
     "traceback": [
      "\u001b[1;31m---------------------------------------------------------------------------\u001b[0m",
      "\u001b[1;31mTypeError\u001b[0m                                 Traceback (most recent call last)",
      "\u001b[1;32m<ipython-input-45-e7a967ea9e1f>\u001b[0m in \u001b[0;36m<module>\u001b[1;34m\u001b[0m\n\u001b[1;32m----> 1\u001b[1;33m \u001b[0mtup\u001b[0m\u001b[1;33m[\u001b[0m\u001b[1;36m2\u001b[0m\u001b[1;33m]\u001b[0m\u001b[1;33m=\u001b[0m \u001b[1;33m[\u001b[0m\u001b[1;36m3\u001b[0m\u001b[1;33m,\u001b[0m\u001b[1;36m4\u001b[0m\u001b[1;33m,\u001b[0m\u001b[1;36m5\u001b[0m\u001b[1;33m]\u001b[0m\u001b[1;33m\u001b[0m\u001b[1;33m\u001b[0m\u001b[0m\n\u001b[0m",
      "\u001b[1;31mTypeError\u001b[0m: 'tuple' object does not support item assignment"
     ]
    }
   ],
   "source": [
    "tup[2]= [3,4,5]"
   ]
  },
  {
   "cell_type": "markdown",
   "metadata": {},
   "source": [
    "# Sets\n",
    "1. Collection of unqiue elements, similar to dictionary i.e {} brackets\n",
    "2. Duplicates are reduced to unqiue set of the elements \n",
    "3. set([1,1,1,1,3,3,3,3,4,4,4,5]) => returns list of unqiue elements \n",
    "4. .add method appends the element to exists list. Incase the same element is added again, no error message is displayed but only one entry of the duplicate element is retained in the set"
   ]
  },
  {
   "cell_type": "code",
   "execution_count": 46,
   "metadata": {},
   "outputs": [
    {
     "data": {
      "text/plain": [
       "{1, 3, 4, 5}"
      ]
     },
     "execution_count": 46,
     "metadata": {},
     "output_type": "execute_result"
    }
   ],
   "source": [
    "s ={1,3,4,4,4,5}\n",
    "s"
   ]
  },
  {
   "cell_type": "code",
   "execution_count": 47,
   "metadata": {},
   "outputs": [
    {
     "data": {
      "text/plain": [
       "{1, 3, 4, 5, 6}"
      ]
     },
     "execution_count": 47,
     "metadata": {},
     "output_type": "execute_result"
    }
   ],
   "source": [
    "s.add(6)\n",
    "s"
   ]
  },
  {
   "cell_type": "code",
   "execution_count": 48,
   "metadata": {},
   "outputs": [],
   "source": [
    "s.add(6)"
   ]
  },
  {
   "cell_type": "code",
   "execution_count": 49,
   "metadata": {},
   "outputs": [
    {
     "data": {
      "text/plain": [
       "{1, 3, 4, 5, 6}"
      ]
     },
     "execution_count": 49,
     "metadata": {},
     "output_type": "execute_result"
    }
   ],
   "source": [
    "s"
   ]
  },
  {
   "cell_type": "markdown",
   "metadata": {},
   "source": [
    "# Comparison operators <, >, ==, <=,>= , != \n",
    "1. comparison operators allow to compare two variables, number, strings\n",
    "2. return boolean value \n",
    "3. == for comparison of equality \n",
    "\n",
    "\n",
    "# Logic operators 'and' as well as 'or'\n",
    "1. and => both conditions true for result to be true\n",
    "2. or => one of the conditions true for result to be true\n"
   ]
  },
  {
   "cell_type": "code",
   "execution_count": 50,
   "metadata": {},
   "outputs": [
    {
     "data": {
      "text/plain": [
       "False"
      ]
     },
     "execution_count": 50,
     "metadata": {},
     "output_type": "execute_result"
    }
   ],
   "source": [
    "x=1\n",
    "y=2\n",
    "x>y\n"
   ]
  },
  {
   "cell_type": "code",
   "execution_count": 51,
   "metadata": {},
   "outputs": [
    {
     "data": {
      "text/plain": [
       "True"
      ]
     },
     "execution_count": 51,
     "metadata": {},
     "output_type": "execute_result"
    }
   ],
   "source": [
    "x<y"
   ]
  },
  {
   "cell_type": "code",
   "execution_count": 52,
   "metadata": {},
   "outputs": [
    {
     "data": {
      "text/plain": [
       "False"
      ]
     },
     "execution_count": 52,
     "metadata": {},
     "output_type": "execute_result"
    }
   ],
   "source": [
    "x==y"
   ]
  },
  {
   "cell_type": "code",
   "execution_count": 53,
   "metadata": {},
   "outputs": [
    {
     "data": {
      "text/plain": [
       "True"
      ]
     },
     "execution_count": 53,
     "metadata": {},
     "output_type": "execute_result"
    }
   ],
   "source": [
    "x!=y"
   ]
  },
  {
   "cell_type": "code",
   "execution_count": 54,
   "metadata": {},
   "outputs": [
    {
     "data": {
      "text/plain": [
       "True"
      ]
     },
     "execution_count": 54,
     "metadata": {},
     "output_type": "execute_result"
    }
   ],
   "source": [
    "x<y and x!=y"
   ]
  },
  {
   "cell_type": "code",
   "execution_count": 55,
   "metadata": {},
   "outputs": [
    {
     "data": {
      "text/plain": [
       "False"
      ]
     },
     "execution_count": 55,
     "metadata": {},
     "output_type": "execute_result"
    }
   ],
   "source": [
    "x>y and x!=y"
   ]
  },
  {
   "cell_type": "code",
   "execution_count": 56,
   "metadata": {},
   "outputs": [
    {
     "data": {
      "text/plain": [
       "True"
      ]
     },
     "execution_count": 56,
     "metadata": {},
     "output_type": "execute_result"
    }
   ],
   "source": [
    "x<y or x==y"
   ]
  },
  {
   "cell_type": "markdown",
   "metadata": {},
   "source": [
    "# Code blocks through If, elif, else \n",
    "1. code block execution depends on condition, code blocking achieved through use of if, elif and else statements\n",
    "2. indention using space helps to do code blocking, done automatically\n",
    "3. if(cond): \n",
    "    do_something\n",
    "4. if(cond):\n",
    "    do_something\n",
    "   else: \n",
    "    do_something_else\n",
    "5.  if(cond):\n",
    "        do_something\n",
    "    elif(cond):\n",
    "        do_something_2\n",
    "        .\n",
    "        .\n",
    "        .\n",
    "    else: \n",
    "        do_something_else\n",
    "        \n",
    "6. only first true condition is executed in a sqeuence of code blocks separated by if, elif, and else"
   ]
  },
  {
   "cell_type": "code",
   "execution_count": 57,
   "metadata": {},
   "outputs": [
    {
     "name": "stdout",
     "output_type": "stream",
     "text": [
      "yes\n"
     ]
    }
   ],
   "source": [
    "if 1<3:\n",
    "    print('yes')"
   ]
  },
  {
   "cell_type": "code",
   "execution_count": 59,
   "metadata": {},
   "outputs": [
    {
     "name": "stdout",
     "output_type": "stream",
     "text": [
      "elif 1 executed!\n"
     ]
    }
   ],
   "source": [
    "if 1>3: \n",
    "    print('yes')\n",
    "elif(2<3):\n",
    "    print('elif 1 executed!')\n",
    "elif(3<4):\n",
    "    print('elif 2 executed!')\n",
    "else:\n",
    "    print(\"don't care!\")\n",
    "    "
   ]
  },
  {
   "cell_type": "markdown",
   "metadata": {},
   "source": [
    "# Iterators: For & While loop\n",
    "1. for each item in the list/seq , we can repeat an action \n",
    "2. temp variable in the for statment can be anything but ideally should signfy datatype of the elements of the seq or list\n",
    "3. while loop: perform an action until a condition remains true "
   ]
  },
  {
   "cell_type": "code",
   "execution_count": 1,
   "metadata": {},
   "outputs": [
    {
     "name": "stdout",
     "output_type": "stream",
     "text": [
      "hello\n",
      "hello\n",
      "hello\n",
      "hello\n"
     ]
    }
   ],
   "source": [
    "seq=[1,2,3,4]\n",
    "for i in seq: \n",
    "    print(\"hello\")"
   ]
  },
  {
   "cell_type": "code",
   "execution_count": 2,
   "metadata": {},
   "outputs": [
    {
     "name": "stdout",
     "output_type": "stream",
     "text": [
      "1\n",
      "2\n",
      "3\n",
      "4\n"
     ]
    }
   ],
   "source": [
    "i = 1\n",
    "while(i<5):\n",
    "    print(i)\n",
    "    i=i+1"
   ]
  },
  {
   "cell_type": "markdown",
   "metadata": {},
   "source": [
    "# Useful Python Functions\n",
    "\n",
    "1. **Range function**: used to avoid creating a sequence of things manually. Generating function for creating the sequence from the start to end i.e. range(start,end)\n",
    "2. **list() function**: to create list from the given input ex: list(range(start,end))\n",
    "    \n",
    "    x= [1,2,3,4,5]\n",
    "    out=[]\n",
    "    for i in x:\n",
    "        out.append(i**2)\n",
    "    print(out)\n",
    "    \n",
    "    \n",
    "3. **list comprehension**: way to save sometime in typing [i**2 for i in seq] \n",
    "4. function: avoid same instructions over and over again. Instead define a function and call it over and over again \n",
    "5. **Function created** by using keyword 'def':\n",
    "\n",
    "    def funtion(param1):\n",
    "        print(param1)\n",
    "        \n",
    "    def my_func(name):\n",
    "        print('hello' + name)\n",
    "        \n",
    "6. **Default values**: def function(parameter = **default_value**)\n",
    "7. function call without paranthesis returns the type of object and to execute the function we need call the function with the paranthesis\n",
    "\n",
    "8. **Returning the value from function**: \n",
    "\n",
    "    def function(param):\n",
    "        return something\n",
    "        \n",
    "9. **Documentation** / commenting in the function done using \"\"\" quotes at the beginning and at the end of comment. \n",
    "   \"\"\"\n",
    "       this is just a comment section\n",
    "   \"\"\"\n",
    "10. To understand the signature call of the function and the docstring describing the function, use shift + tab \n",
    "             \n",
    "    \n",
    "                "
   ]
  },
  {
   "cell_type": "code",
   "execution_count": 6,
   "metadata": {},
   "outputs": [
    {
     "name": "stdout",
     "output_type": "stream",
     "text": [
      "[1, 4, 9, 16, 25]\n"
     ]
    },
    {
     "data": {
      "text/plain": [
       "[1, 4, 9, 16, 25]"
      ]
     },
     "execution_count": 6,
     "metadata": {},
     "output_type": "execute_result"
    }
   ],
   "source": [
    "x= [1,2,3,4,5]\n",
    "out=[]\n",
    "for i in x:\n",
    "    out.append(i**2)\n",
    "print(out)\n",
    "[i**2 for i in x]"
   ]
  },
  {
   "cell_type": "markdown",
   "metadata": {},
   "source": [
    "# Lambda Expressions, Map & Filter \n",
    "\n",
    "1. **Map function**:  apply some login/operation for every single element of the seq or list \n",
    "    \n",
    "    def add_1(param):\n",
    "        return param+2\n",
    "    \n",
    "    x= [1,2,3,4,5]\n",
    "    \n",
    "    list(map(add_1,x)) \"\"\" to generate the list of elements from the map output \"\"\"\n",
    "\n",
    "2. **Lambda expression** : Could skip the function definition using lambda expression:\n",
    "    \n",
    "    t= lambda param:param + 2 \n",
    "    \n",
    "    \"\"\" \n",
    "        t is the variable to which the lambda expression is assigned. \n",
    "        lambda expression created by replacing the def function_name with the word lambda. \n",
    "        Passing the parameter as the argument i.e. lambda(param):, \n",
    "        Followed by the: and instead of return, the value that should be returned ex: lambda(param):param*2\n",
    "    \"\"\"\n",
    "      \n",
    "    list(map(t,x)) \"\"\" to generate the list of elements from the map output \"\"\"\n",
    "    \n",
    "    **OR**\n",
    "    \n",
    "    list(map(lambda param:param + 2,x))\n",
    "\n",
    "\n",
    "3. **Filter Function**: It similar structure map but instead of mapping, it function filters out elements from the     sequence \n",
    "\n",
    "    list(filter(lambda param: param%2 ==0, x))\n",
    "    \n",
    "4. Lambda expression should always return boolean as return value, when used in Filter function\n",
    "5. Filter function filters out the elements for which the lambda expression returns true"
   ]
  },
  {
   "cell_type": "code",
   "execution_count": 12,
   "metadata": {},
   "outputs": [
    {
     "data": {
      "text/plain": [
       "[3, 4, 5, 6]"
      ]
     },
     "execution_count": 12,
     "metadata": {},
     "output_type": "execute_result"
    }
   ],
   "source": [
    "def add_1(param):\n",
    "    return param + 2\n",
    "\n",
    "x= [1,2,3,4]\n",
    "list(map(add_1,x))\n"
   ]
  },
  {
   "cell_type": "code",
   "execution_count": 13,
   "metadata": {},
   "outputs": [
    {
     "data": {
      "text/plain": [
       "[3, 4, 5, 6]"
      ]
     },
     "execution_count": 13,
     "metadata": {},
     "output_type": "execute_result"
    }
   ],
   "source": [
    "t= lambda param:param + 2 \n",
    "list(map(t,x))"
   ]
  },
  {
   "cell_type": "code",
   "execution_count": 14,
   "metadata": {},
   "outputs": [
    {
     "data": {
      "text/plain": [
       "[3, 4, 5, 6]"
      ]
     },
     "execution_count": 14,
     "metadata": {},
     "output_type": "execute_result"
    }
   ],
   "source": [
    "list(map(lambda param:param + 2,x))"
   ]
  },
  {
   "cell_type": "code",
   "execution_count": 15,
   "metadata": {},
   "outputs": [
    {
     "data": {
      "text/plain": [
       "[2, 4]"
      ]
     },
     "execution_count": 15,
     "metadata": {},
     "output_type": "execute_result"
    }
   ],
   "source": [
    "list(filter(lambda param: param%2 ==0, x))"
   ]
  },
  {
   "cell_type": "markdown",
   "metadata": {},
   "source": [
    "# Methods\n",
    "\n",
    "Methods provided by the object of the certain class which modify the object in some way or return some value \n",
    "\n",
    "   s = 'This is my string object'\n",
    "   \n",
    "   s.upper() => converts the whole string into upper case\n",
    "   \n",
    "   s.lower() => converts the whole string into lower case\n",
    "   \n",
    "   s.split() => splits the string into individual words when no input string give otherwise splits the string into sections before and after the input string \n",
    "   \n",
    "   "
   ]
  },
  {
   "cell_type": "code",
   "execution_count": 20,
   "metadata": {},
   "outputs": [
    {
     "data": {
      "text/plain": [
       "['This is ', ' string object and ', ' string']"
      ]
     },
     "execution_count": 20,
     "metadata": {},
     "output_type": "execute_result"
    }
   ],
   "source": [
    "s = 'This is my string object and my string'\n",
    "s.upper()\n",
    "s.lower()\n",
    "s.split('my')"
   ]
  },
  {
   "cell_type": "code",
   "execution_count": 22,
   "metadata": {},
   "outputs": [
    {
     "data": {
      "text/plain": [
       "dict_keys(['k1', 'k2'])"
      ]
     },
     "execution_count": 22,
     "metadata": {},
     "output_type": "execute_result"
    }
   ],
   "source": [
    "d={'k1': 1, 'k2': 2}\n",
    "d.keys()"
   ]
  },
  {
   "cell_type": "markdown",
   "metadata": {},
   "source": [
    "# In Operator\n",
    "\n",
    "1. Used to check if certain element is present in the data container\n",
    " \n",
    "   Example: 'x' in ['x','y','x']\n",
    "\n",
    "2. return true or false i.e. boolean return value"
   ]
  },
  {
   "cell_type": "code",
   "execution_count": 23,
   "metadata": {},
   "outputs": [
    {
     "data": {
      "text/plain": [
       "True"
      ]
     },
     "execution_count": 23,
     "metadata": {},
     "output_type": "execute_result"
    }
   ],
   "source": [
    "'x' in ['x','y','x']"
   ]
  },
  {
   "cell_type": "markdown",
   "metadata": {},
   "source": [
    "# Tuple Unpacking\n",
    "\n",
    "1. To get elements from the list of tuples \n",
    "\n",
    "    x= [(1,2), (3,4), (5,4)]\n",
    "\n",
    "    for item in x: \n",
    "        print(item)\n",
    "        \n",
    "        \n",
    "    \"\"\" Tuple unpacking \"\"\"\n",
    "    Instead of the item, extracting the tuple and then using the tuple or element of tuple individually\n",
    "    \n",
    "    for (a,b) in x: \n",
    "        print(a,b)\n",
    "        print(a)\n",
    "        print(b)"
   ]
  },
  {
   "cell_type": "code",
   "execution_count": 24,
   "metadata": {},
   "outputs": [
    {
     "name": "stdout",
     "output_type": "stream",
     "text": [
      "(1, 2)\n",
      "(3, 4)\n",
      "(5, 4)\n"
     ]
    }
   ],
   "source": [
    "x= [(1,2), (3,4), (5,4)]\n",
    "\n",
    "for item in x: \n",
    "    print(item)"
   ]
  },
  {
   "cell_type": "code",
   "execution_count": 25,
   "metadata": {},
   "outputs": [
    {
     "name": "stdout",
     "output_type": "stream",
     "text": [
      "1 2\n",
      "1\n",
      "2\n",
      "3 4\n",
      "3\n",
      "4\n",
      "5 4\n",
      "5\n",
      "4\n"
     ]
    }
   ],
   "source": [
    "for (a,b) in x: \n",
    "    print(a,b)\n",
    "    print(a)\n",
    "    print(b)\n",
    "    "
   ]
  }
 ],
 "metadata": {
  "kernelspec": {
   "display_name": "Python 3",
   "language": "python",
   "name": "python3"
  },
  "language_info": {
   "codemirror_mode": {
    "name": "ipython",
    "version": 3
   },
   "file_extension": ".py",
   "mimetype": "text/x-python",
   "name": "python",
   "nbconvert_exporter": "python",
   "pygments_lexer": "ipython3",
   "version": "3.7.4"
  }
 },
 "nbformat": 4,
 "nbformat_minor": 2
}
